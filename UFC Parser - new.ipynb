{
 "cells": [
  {
   "cell_type": "markdown",
   "metadata": {},
   "source": [
    "# UFC Parser - New"
   ]
  },
  {
   "cell_type": "code",
   "execution_count": 2,
   "metadata": {},
   "outputs": [],
   "source": [
    "import pandas as pd\n",
    "import numpy as np"
   ]
  },
  {
   "cell_type": "code",
   "execution_count": 3,
   "metadata": {},
   "outputs": [],
   "source": [
    "# clean up the ownership df:\n",
    "# 1) get rid of the empty cells\n",
    "# 2) rename the '%Drafted' column to 'ownership' for easier assignment (b/c it starts w/ a %)\n",
    "# 3) convert the string values in that column to floats and then convert to a percentage value\n",
    "# return the modified dataframe\n",
    "\n",
    "def tweak_own(own_df):\n",
    "    return (own_df\n",
    "        .dropna()\n",
    "        .rename(columns={'%Drafted':'ownership'})\n",
    "        .assign(ownership = lambda df_: df_.ownership\n",
    "            .str.replace('%', '')\n",
    "            .astype(float)\n",
    "            .div(100))    \n",
    "    )"
   ]
  },
  {
   "cell_type": "code",
   "execution_count": 74,
   "metadata": {},
   "outputs": [],
   "source": [
    "def parse_results(results_df):\n",
    "    return(results_df\n",
    "        .dropna()\n",
    "        .join(results_df\n",
    "            .Lineup\n",
    "            .str.extract(r'F (?P<F1>.*) F (?P<F2>.*) F (?P<F3>.*) F (?P<F4>.*) F (?P<F5>.*) F (?P<F6>.*)'))\n",
    "        #can maybe turn the following ownership column assignments into a function?\n",
    "        .assign(O1=lambda df_: own_df.loc[df_.F1, 'ownership'].values,\n",
    "            O2=lambda df_: own_df.loc[df_.F2, 'ownership'].values,\n",
    "            O3=lambda df_: own_df.loc[df_.F3, 'ownership'].values,\n",
    "            O4=lambda df_: own_df.loc[df_.F4, 'ownership'].values,\n",
    "            O5=lambda df_: own_df.loc[df_.F5, 'ownership'].values,\n",
    "            O6=lambda df_: own_df.loc[df_.F6, 'ownership'].values,\n",
    "            S1=lambda df_: sal_df.loc[df_.F1, 'Salary'].values,\n",
    "            S2=lambda df_: sal_df.loc[df_.F2, 'Salary'].values,\n",
    "            S3=lambda df_: sal_df.loc[df_.F3, 'Salary'].values,\n",
    "            S4=lambda df_: sal_df.loc[df_.F4, 'Salary'].values,\n",
    "            S5=lambda df_: sal_df.loc[df_.F5, 'Salary'].values,\n",
    "            S6=lambda df_: sal_df.loc[df_.F6, 'Salary'].values)\n",
    "        .assign(own_sum=lambda df_:df_[['O1','O2','O3','O4','O5','O6']].sum(axis=1),\n",
    "            own_prod=lambda df_:df_[['O1','O2','O3','O4','O5','O6']].product(axis=1),\n",
    "            combos=lambda df_:df_.own_prod * total_entries,\n",
    "            salary=lambda df_: 50000 - df_[['S1','S2','S3','S4','S5','S6']].sum(axis=1),\n",
    "            dupes=(results_df\n",
    "                .groupby('Lineup')\n",
    "                .Points\n",
    "                .transform('size')\n",
    "                .astype('Int16')))\n",
    "        .drop(columns=['O1','O2','O3','O4','O5','O6','S1','S2','S3','S4','S5','S6'])\n",
    "    )"
   ]
  },
  {
   "cell_type": "code",
   "execution_count": 78,
   "metadata": {},
   "outputs": [],
   "source": [
    "# prepare results df for regression testing on dupes\n",
    "# filter df with only necessary columns and remove duplicates\n",
    "def regr_prep(res_df):\n",
    "    cols = ['Lineup', 'combos', 'salary', 'dupes']\n",
    "    return(res_df\n",
    "        [cols]\n",
    "        .drop_duplicates(ignore_index=True)\n",
    "    )"
   ]
  },
  {
   "cell_type": "code",
   "execution_count": 4,
   "metadata": {},
   "outputs": [
    {
     "name": "stdout",
     "output_type": "stream",
     "text": [
      "C:\\Users\\steve\\OneDrive\\Documents\\DFS\\UFC\\Results\\FN - Hermansson vs Strickland - Main.csv\n"
     ]
    }
   ],
   "source": [
    "directory = 'C:\\\\Users\\\\steve\\\\OneDrive\\\\Documents\\\\DFS\\\\UFC\\\\Results\\\\'\n",
    "\n",
    "fname = 'FN - Hermansson vs Strickland - Main.csv'\n",
    "\n",
    "path = directory + fname\n",
    "\n",
    "print(path)"
   ]
  },
  {
   "cell_type": "code",
   "execution_count": 5,
   "metadata": {},
   "outputs": [
    {
     "data": {
      "text/html": [
       "<div>\n",
       "<style scoped>\n",
       "    .dataframe tbody tr th:only-of-type {\n",
       "        vertical-align: middle;\n",
       "    }\n",
       "\n",
       "    .dataframe tbody tr th {\n",
       "        vertical-align: top;\n",
       "    }\n",
       "\n",
       "    .dataframe thead th {\n",
       "        text-align: right;\n",
       "    }\n",
       "</style>\n",
       "<table border=\"1\" class=\"dataframe\">\n",
       "  <thead>\n",
       "    <tr style=\"text-align: right;\">\n",
       "      <th></th>\n",
       "      <th>Rank</th>\n",
       "      <th>EntryName</th>\n",
       "      <th>Points</th>\n",
       "      <th>Lineup</th>\n",
       "    </tr>\n",
       "  </thead>\n",
       "  <tbody>\n",
       "    <tr>\n",
       "      <th>0</th>\n",
       "      <td>1</td>\n",
       "      <td>jsteed22 (6/150)</td>\n",
       "      <td>688.79004</td>\n",
       "      <td>F Chidi Njokuani F Alexis Davis F Jailton Alme...</td>\n",
       "    </tr>\n",
       "    <tr>\n",
       "      <th>1</th>\n",
       "      <td>2</td>\n",
       "      <td>CrimaSaad (5/21)</td>\n",
       "      <td>682.71000</td>\n",
       "      <td>F Chidi Njokuani F Alexis Davis F Malcolm Gord...</td>\n",
       "    </tr>\n",
       "    <tr>\n",
       "      <th>2</th>\n",
       "      <td>3</td>\n",
       "      <td>bendragos (70/150)</td>\n",
       "      <td>679.32000</td>\n",
       "      <td>F Sean Strickland F Chidi Njokuani F Jailton A...</td>\n",
       "    </tr>\n",
       "    <tr>\n",
       "      <th>3</th>\n",
       "      <td>3</td>\n",
       "      <td>galsharir (1/3)</td>\n",
       "      <td>679.32000</td>\n",
       "      <td>F Sean Strickland F Chidi Njokuani F Jailton A...</td>\n",
       "    </tr>\n",
       "    <tr>\n",
       "      <th>4</th>\n",
       "      <td>3</td>\n",
       "      <td>russelld07 (75/150)</td>\n",
       "      <td>679.32000</td>\n",
       "      <td>F Sean Strickland F Chidi Njokuani F Jailton A...</td>\n",
       "    </tr>\n",
       "  </tbody>\n",
       "</table>\n",
       "</div>"
      ],
      "text/plain": [
       "   Rank            EntryName     Points  \\\n",
       "0     1     jsteed22 (6/150)  688.79004   \n",
       "1     2     CrimaSaad (5/21)  682.71000   \n",
       "2     3   bendragos (70/150)  679.32000   \n",
       "3     3      galsharir (1/3)  679.32000   \n",
       "4     3  russelld07 (75/150)  679.32000   \n",
       "\n",
       "                                              Lineup  \n",
       "0  F Chidi Njokuani F Alexis Davis F Jailton Alme...  \n",
       "1  F Chidi Njokuani F Alexis Davis F Malcolm Gord...  \n",
       "2  F Sean Strickland F Chidi Njokuani F Jailton A...  \n",
       "3  F Sean Strickland F Chidi Njokuani F Jailton A...  \n",
       "4  F Sean Strickland F Chidi Njokuani F Jailton A...  "
      ]
     },
     "execution_count": 5,
     "metadata": {},
     "output_type": "execute_result"
    }
   ],
   "source": [
    "results_df = pd.read_csv(path, usecols=[0,2,4,5])\n",
    "results_df.head()"
   ]
  },
  {
   "cell_type": "code",
   "execution_count": 28,
   "metadata": {},
   "outputs": [],
   "source": [
    "own_df_raw = pd.read_csv(path, usecols=[7,9,10], index_col='Player')\n",
    "own_df = tweak_own(own_df_raw)"
   ]
  },
  {
   "cell_type": "code",
   "execution_count": null,
   "metadata": {},
   "outputs": [],
   "source": [
    "#get salaries from file\n",
    "base_dir = 'C:\\\\Users\\\\steve\\\\OneDrive\\\\Documents\\\\DFS\\\\UFC\\\\'\n",
    "sal_file = 'fn salaries.csv'\n",
    "sal_path = base_dir + sal_file\n",
    "\n",
    "sal_df = pd.read_csv(sal_path, usecols=[0,1], index_col='Player')\n",
    "sal_df"
   ]
  },
  {
   "cell_type": "code",
   "execution_count": 7,
   "metadata": {},
   "outputs": [
    {
     "name": "stdout",
     "output_type": "stream",
     "text": [
      "Total Entries:  31372\n",
      "Total Empty Lineups:  1007\n",
      "Total Live Lineups:  30365\n",
      "Total Unique Lineups: 10693\n"
     ]
    }
   ],
   "source": [
    "# get summary data on results_df, *maybe turn into function later\n",
    "\n",
    "total_entries = len(results_df)\n",
    "total_empty = results_df['Lineup'].isnull().sum()\n",
    "total_live = total_entries - total_empty\n",
    "total_uniques = results_df['Lineup'].nunique()\n",
    "\n",
    "print('Total Entries: ', total_entries)\n",
    "print('Total Empty Lineups: ', total_empty)\n",
    "print('Total Live Lineups: ', total_live)\n",
    "print('Total Unique Lineups:', total_uniques)"
   ]
  },
  {
   "cell_type": "code",
   "execution_count": 72,
   "metadata": {},
   "outputs": [],
   "source": [
    "res_df = parse_results(results_df)"
   ]
  },
  {
   "cell_type": "markdown",
   "metadata": {},
   "source": [
    "### Testing regular expression techniques"
   ]
  },
  {
   "cell_type": "code",
   "execution_count": null,
   "metadata": {},
   "outputs": [],
   "source": [
    "(results_df\n",
    "    .Lineup\n",
    "    .dropna()\n",
    "    #.str.replace(' F ', ',')\n",
    "    #.str.replace('F ', '')\n",
    "    #.str.split(',', expand=True).add_prefix('F')\n",
    "    .str.extract(r'F (?P<F1>.*) F (?P<F2>.*) F (?P<F3>.*) F (?P<F4>.*) F (?P<F5>.*) F (?P<F6>.*)')\n",
    "    #.str.extractall(r'F (?P<fighter>\\S*\\s\\S*)')\n",
    "    #.unstack()\n",
    ")"
   ]
  },
  {
   "cell_type": "code",
   "execution_count": 54,
   "metadata": {},
   "outputs": [
    {
     "data": {
      "text/plain": [
       "['Sean Strickland',\n",
       " 'Denys Bondar',\n",
       " 'Punahele Soriano',\n",
       " 'Carlston Harris',\n",
       " 'Bryan Battle',\n",
       " 'Phil Rowe']"
      ]
     },
     "execution_count": 54,
     "metadata": {},
     "output_type": "execute_result"
    }
   ],
   "source": [
    "import re\n",
    "\n",
    "test_string = 'F Sean Strickland F Denys Bondar F Punahele Soriano F Carlston Harris F Bryan Battle F Phil Rowe'\n",
    "\n",
    "re.findall(r'F (\\S*\\s\\S*)', test_string)"
   ]
  }
 ],
 "metadata": {
  "interpreter": {
   "hash": "cde309eaedde8b6bb5f4b360875c0b04653413d546d1ea2ac4bb9bff6ac8483b"
  },
  "kernelspec": {
   "display_name": "Python 3.10.1 ('UFC_Scraper-XzaB2MKi')",
   "language": "python",
   "name": "python3"
  },
  "language_info": {
   "codemirror_mode": {
    "name": "ipython",
    "version": 3
   },
   "file_extension": ".py",
   "mimetype": "text/x-python",
   "name": "python",
   "nbconvert_exporter": "python",
   "pygments_lexer": "ipython3",
   "version": "3.10.1"
  },
  "orig_nbformat": 4
 },
 "nbformat": 4,
 "nbformat_minor": 2
}
